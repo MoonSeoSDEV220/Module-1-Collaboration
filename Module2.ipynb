{
 "cells": [
  {
   "cell_type": "code",
   "execution_count": 1,
   "metadata": {},
   "outputs": [
    {
     "name": "stdout",
     "output_type": "stream",
     "text": [
      "Too high\n"
     ]
    }
   ],
   "source": [
    "#4.1\n",
    "secret: int = 3\n",
    "guess: int = 6\n",
    "\n",
    "if guess > secret:\n",
    "    print(\"Too high\")\n",
    "elif guess < secret:\n",
    "    print(\"Too low\")\n",
    "elif guess == secret:\n",
    "    print(\"Just right\")\n",
    "    \n",
    "    "
   ]
  },
  {
   "cell_type": "code",
   "execution_count": 2,
   "metadata": {},
   "outputs": [
    {
     "name": "stdout",
     "output_type": "stream",
     "text": [
      "pea\n"
     ]
    },
    {
     "data": {
      "text/plain": [
       "True"
      ]
     },
     "execution_count": 2,
     "metadata": {},
     "output_type": "execute_result"
    }
   ],
   "source": [
    "#4.2\n",
    "small: bool = True\n",
    "green: bool = True\n",
    "\n",
    "if small and green:\n",
    "    print(\"pea\")\n",
    "elif small and not green:\n",
    "    print(\"Cherry\")\n",
    "elif not small and not green:\n",
    "    print(\"Pumpkin\")\n",
    "elif not small and green:\n",
    "    print(\"Watermelon\") \n",
    "    \n"
   ]
  },
  {
   "cell_type": "code",
   "execution_count": 3,
   "metadata": {},
   "outputs": [
    {
     "data": {
      "text/plain": [
       "[3, 2, 1, 0]"
      ]
     },
     "execution_count": 3,
     "metadata": {},
     "output_type": "execute_result"
    }
   ],
   "source": [
    "#6.1\n",
    "list(range(3, -1, -1))\n"
   ]
  },
  {
   "cell_type": "code",
   "execution_count": 6,
   "metadata": {},
   "outputs": [
    {
     "name": "stdout",
     "output_type": "stream",
     "text": [
      "1\n",
      "Too low\n",
      "2\n",
      "Too low\n",
      "3\n",
      "Too low\n",
      "4\n",
      "Too low\n",
      "5\n",
      "Too low\n",
      "6\n",
      "Too low\n",
      "7\n",
      "Found it~\n"
     ]
    }
   ],
   "source": [
    "#6.2\n",
    "guess_me: int = 7\n",
    "number: int = 1\n",
    "\n",
    "while True:\n",
    "    if number > guess_me:\n",
    "        print(\"oops\")\n",
    "        break\n",
    "    elif number < guess_me:\n",
    "        print(number)\n",
    "        print(\"Too low\")\n",
    "        number += 1\n",
    "    elif number == guess_me:\n",
    "        print(number)\n",
    "        print(\"Found it~\")\n",
    "        break\n",
    "    \n",
    "    \n"
   ]
  },
  {
   "cell_type": "code",
   "execution_count": 8,
   "metadata": {},
   "outputs": [
    {
     "name": "stdout",
     "output_type": "stream",
     "text": [
      "0\n",
      "Too low\n",
      "1\n",
      "Too low\n",
      "2\n",
      "Too low\n",
      "3\n",
      "Too low\n",
      "4\n",
      "Too low\n",
      "5\n",
      "Found it!\n"
     ]
    }
   ],
   "source": [
    "#6.3\n",
    "\n",
    "guess_me: int = 5\n",
    "for i in range(0, 10, 1):\n",
    "    if i > guess_me:\n",
    "        print(\"Oops\")\n",
    "        break\n",
    "    if i == guess_me:\n",
    "        print(i)\n",
    "        print(\"Found it!\")\n",
    "        break\n",
    "    if i < guess_me:\n",
    "        print(i)\n",
    "        print(\"Too low\")\n",
    "    \n",
    "    \n"
   ]
  }
 ],
 "metadata": {
  "kernelspec": {
   "display_name": "base",
   "language": "python",
   "name": "python3"
  },
  "language_info": {
   "codemirror_mode": {
    "name": "ipython",
    "version": 3
   },
   "file_extension": ".py",
   "mimetype": "text/x-python",
   "name": "python",
   "nbconvert_exporter": "python",
   "pygments_lexer": "ipython3",
   "version": "3.12.7"
  }
 },
 "nbformat": 4,
 "nbformat_minor": 2
}
