{
 "cells": [
  {
   "cell_type": "code",
   "execution_count": 1,
   "metadata": {},
   "outputs": [],
   "source": [
    "#13.1\n",
    "from datetime import datetime\n",
    "\n",
    "fmt = \"It's %A, %B %d, %Y, local time %I:%M:%S%p\"\n",
    "now = datetime.today().strftime(fmt)\n",
    "\n",
    "with open('now.txt', 'w') as file:\n",
    "    file.write(now)\n"
   ]
  },
  {
   "cell_type": "code",
   "execution_count": 13,
   "metadata": {},
   "outputs": [
    {
     "name": "stdout",
     "output_type": "stream",
     "text": [
      "It's Saturday, March 01, 2025, local time 08:58:57PM\n"
     ]
    }
   ],
   "source": [
    "#13.2 \n",
    "with open('now.txt', 'r') as file:\n",
    "    now_string = file.read().strip()\n",
    "    \n",
    "print(now_string)"
   ]
  },
  {
   "cell_type": "code",
   "execution_count": 14,
   "metadata": {},
   "outputs": [
    {
     "name": "stdout",
     "output_type": "stream",
     "text": [
      "2025-03-01 20:58:57\n"
     ]
    }
   ],
   "source": [
    "#13.3\n",
    "now_parsed = datetime.strptime(now_string, fmt)\n",
    "\n",
    "print(now_parsed)"
   ]
  },
  {
   "cell_type": "code",
   "execution_count": 15,
   "metadata": {},
   "outputs": [
    {
     "name": "stdout",
     "output_type": "stream",
     "text": [
      "0.0028128314537652077\n",
      "2025-03-01 21:20:11.615511\n",
      "0.05537744066757144\n",
      "2025-03-01 21:20:11.782928\n",
      "0.1651422447962031\n",
      "2025-03-01 21:20:12.059672\n"
     ]
    }
   ],
   "source": [
    "from os import getpid\n",
    "import multiprocessing as mp\n",
    "import random\n",
    "from datetime import datetime\n",
    "from time import sleep\n",
    "\n",
    "def mp_demo(proc_num):\n",
    "    print(\"process id:\", getpid(), \". Proc num\", proc_num)\n",
    "\n",
    "if __name__ == \"__main__\":\n",
    "    for i in range(0, 3):\n",
    "        num_seconds = random.random()\n",
    "        print(num_seconds)\n",
    "        p = mp.Process(target=mp_demo, args =(i,) )\n",
    "        p.start()\n",
    "        p.join()\n",
    "        sleep(num_seconds)\n",
    "        print(datetime.now())"
   ]
  }
 ],
 "metadata": {
  "kernelspec": {
   "display_name": "Python 3",
   "language": "python",
   "name": "python3"
  },
  "language_info": {
   "codemirror_mode": {
    "name": "ipython",
    "version": 3
   },
   "file_extension": ".py",
   "mimetype": "text/x-python",
   "name": "python",
   "nbconvert_exporter": "python",
   "pygments_lexer": "ipython3",
   "version": "3.13.2"
  }
 },
 "nbformat": 4,
 "nbformat_minor": 2
}
